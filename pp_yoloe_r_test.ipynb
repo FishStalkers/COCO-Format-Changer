{
  "nbformat": 4,
  "nbformat_minor": 0,
  "metadata": {
    "colab": {
      "provenance": [],
      "mount_file_id": "1vYMoWQKM3kvTGC_CTmqZjloHJuVZ8gJk",
      "authorship_tag": "ABX9TyOTmFWj28dkdOfdTa1frz09",
      "include_colab_link": true
    },
    "kernelspec": {
      "name": "python3",
      "display_name": "Python 3"
    },
    "language_info": {
      "name": "python"
    },
    "accelerator": "GPU",
    "gpuClass": "standard"
  },
  "cells": [
    {
      "cell_type": "markdown",
      "metadata": {
        "id": "view-in-github",
        "colab_type": "text"
      },
      "source": [
        "<a href=\"https://colab.research.google.com/github/FishStalkers/COCO-to-PP-YOLOE-R/blob/main/pp_yoloe_r_test.ipynb\" target=\"_parent\"><img src=\"https://colab.research.google.com/assets/colab-badge.svg\" alt=\"Open In Colab\"/></a>"
      ]
    },
    {
      "cell_type": "code",
      "execution_count": 1,
      "metadata": {
        "colab": {
          "base_uri": "https://localhost:8080/"
        },
        "id": "bJcsRfHDNXSG",
        "outputId": "c929596b-0186-49e2-e3e2-bba4b2c7d5db"
      },
      "outputs": [
        {
          "output_type": "stream",
          "name": "stdout",
          "text": [
            "Looking in indexes: https://mirror.baidu.com/pypi/simple, https://us-python.pkg.dev/colab-wheels/public/simple/\n",
            "Collecting paddlepaddle-gpu==2.3.2\n",
            "  Downloading https://mirror.baidu.com/pypi/packages/ff/c0/86df6500722e723bed0a5f5c255b4adbbb3c6d900acd384c089fc446f211/paddlepaddle_gpu-2.3.2-cp38-cp38-manylinux1_x86_64.whl (394.0 MB)\n",
            "\u001b[2K     \u001b[90m━━━━━━━━━━━━━━━━━━━━━━━━━━━━━━━━━━━━━━━\u001b[0m \u001b[32m394.0/394.0 MB\u001b[0m \u001b[31m2.5 MB/s\u001b[0m eta \u001b[36m0:00:00\u001b[0m\n",
            "\u001b[?25hRequirement already satisfied: protobuf<=3.20.0,>=3.1.0 in /usr/local/lib/python3.8/dist-packages (from paddlepaddle-gpu==2.3.2) (3.19.6)\n",
            "Requirement already satisfied: numpy>=1.13 in /usr/local/lib/python3.8/dist-packages (from paddlepaddle-gpu==2.3.2) (1.21.6)\n",
            "Requirement already satisfied: Pillow in /usr/local/lib/python3.8/dist-packages (from paddlepaddle-gpu==2.3.2) (7.1.2)\n",
            "Requirement already satisfied: six in /usr/local/lib/python3.8/dist-packages (from paddlepaddle-gpu==2.3.2) (1.15.0)\n",
            "Collecting paddle-bfloat==0.1.7\n",
            "  Downloading https://mirror.baidu.com/pypi/packages/76/d7/ba0e1aeec33e20c78af5cf2fdbb7e7cabfe4679557e68759a17c97e03540/paddle_bfloat-0.1.7-cp38-cp38-manylinux_2_17_x86_64.manylinux2014_x86_64.whl (385 kB)\n",
            "\u001b[2K     \u001b[90m━━━━━━━━━━━━━━━━━━━━━━━━━━━━━━━━━━━━━━\u001b[0m \u001b[32m385.5/385.5 KB\u001b[0m \u001b[31m10.1 MB/s\u001b[0m eta \u001b[36m0:00:00\u001b[0m\n",
            "\u001b[?25hRequirement already satisfied: requests>=2.20.0 in /usr/local/lib/python3.8/dist-packages (from paddlepaddle-gpu==2.3.2) (2.25.1)\n",
            "Requirement already satisfied: decorator in /usr/local/lib/python3.8/dist-packages (from paddlepaddle-gpu==2.3.2) (4.4.2)\n",
            "Requirement already satisfied: opt-einsum==3.3.0 in /usr/local/lib/python3.8/dist-packages (from paddlepaddle-gpu==2.3.2) (3.3.0)\n",
            "Requirement already satisfied: astor in /usr/local/lib/python3.8/dist-packages (from paddlepaddle-gpu==2.3.2) (0.8.1)\n",
            "Requirement already satisfied: idna<3,>=2.5 in /usr/local/lib/python3.8/dist-packages (from requests>=2.20.0->paddlepaddle-gpu==2.3.2) (2.10)\n",
            "Requirement already satisfied: certifi>=2017.4.17 in /usr/local/lib/python3.8/dist-packages (from requests>=2.20.0->paddlepaddle-gpu==2.3.2) (2022.12.7)\n",
            "Requirement already satisfied: urllib3<1.27,>=1.21.1 in /usr/local/lib/python3.8/dist-packages (from requests>=2.20.0->paddlepaddle-gpu==2.3.2) (1.24.3)\n",
            "Requirement already satisfied: chardet<5,>=3.0.2 in /usr/local/lib/python3.8/dist-packages (from requests>=2.20.0->paddlepaddle-gpu==2.3.2) (4.0.0)\n",
            "Installing collected packages: paddle-bfloat, paddlepaddle-gpu\n",
            "Successfully installed paddle-bfloat-0.1.7 paddlepaddle-gpu-2.3.2\n"
          ]
        }
      ],
      "source": [
        "pip install paddlepaddle-gpu==2.3.2 -i https://mirror.baidu.com/pypi/simple"
      ]
    },
    {
      "cell_type": "code",
      "source": [
        "import paddle"
      ],
      "metadata": {
        "id": "Po-v97JIOFJX"
      },
      "execution_count": 2,
      "outputs": []
    },
    {
      "cell_type": "code",
      "source": [
        "paddle.utils.run_check()"
      ],
      "metadata": {
        "colab": {
          "base_uri": "https://localhost:8080/"
        },
        "id": "oWKo7gKNOIyQ",
        "outputId": "68b71a75-a92a-4e10-aa8a-77d8091eaf49"
      },
      "execution_count": 3,
      "outputs": [
        {
          "output_type": "stream",
          "name": "stdout",
          "text": [
            "Running verify PaddlePaddle program ... \n",
            "PaddlePaddle works well on 1 GPU.\n",
            "PaddlePaddle works well on 1 GPUs.\n",
            "PaddlePaddle is installed successfully! Let's start deep learning with PaddlePaddle now.\n"
          ]
        }
      ]
    },
    {
      "cell_type": "code",
      "source": [
        "!git clone https://github.com/PaddlePaddle/PaddleDetection.git"
      ],
      "metadata": {
        "colab": {
          "base_uri": "https://localhost:8080/"
        },
        "id": "vmgUsDYiOuKc",
        "outputId": "f7089736-5d9d-4d78-a10b-cfbfcdcbee77"
      },
      "execution_count": 7,
      "outputs": [
        {
          "output_type": "stream",
          "name": "stdout",
          "text": [
            "Cloning into 'PaddleDetection'...\n",
            "remote: Enumerating objects: 255398, done.\u001b[K\n",
            "remote: Counting objects: 100% (364/364), done.\u001b[K\n",
            "remote: Compressing objects: 100% (241/241), done.\u001b[K\n",
            "remote: Total 255398 (delta 148), reused 298 (delta 123), pack-reused 255034\u001b[K\n",
            "Receiving objects: 100% (255398/255398), 414.49 MiB | 22.30 MiB/s, done.\n",
            "Resolving deltas: 100% (208352/208352), done.\n",
            "Updating files: 100% (1619/1619), done.\n"
          ]
        }
      ]
    },
    {
      "cell_type": "code",
      "source": [
        "import os"
      ],
      "metadata": {
        "id": "0NU8_FXF8LNq"
      },
      "execution_count": 9,
      "outputs": []
    },
    {
      "cell_type": "code",
      "source": [
        "os.chdir('./PaddleDetection/ppdet/ext_op')"
      ],
      "metadata": {
        "id": "dSIB27It86Mw"
      },
      "execution_count": 18,
      "outputs": []
    },
    {
      "cell_type": "code",
      "source": [
        "!python setup.py install"
      ],
      "metadata": {
        "colab": {
          "base_uri": "https://localhost:8080/"
        },
        "id": "gW7qCMJD9hTn",
        "outputId": "cfc0692d-ddb8-46d5-9f65-beb388bad49a"
      },
      "execution_count": 20,
      "outputs": [
        {
          "output_type": "stream",
          "name": "stdout",
          "text": [
            "running install\n",
            "running bdist_egg\n",
            "running egg_info\n",
            "creating ext_op.egg-info\n",
            "writing ext_op.egg-info/PKG-INFO\n",
            "writing dependency_links to ext_op.egg-info/dependency_links.txt\n",
            "writing top-level names to ext_op.egg-info/top_level.txt\n",
            "writing manifest file 'ext_op.egg-info/SOURCES.txt'\n",
            "reading manifest file 'ext_op.egg-info/SOURCES.txt'\n",
            "writing manifest file 'ext_op.egg-info/SOURCES.txt'\n",
            "installing library code to build/ext_op/bdist.linux-x86_64/egg\n",
            "running install_lib\n",
            "running build_ext\n",
            "Compiling user custom op, it will cost a few seconds.....\n",
            "building 'ext_op' extension\n",
            "x86_64-linux-gnu-gcc -pthread -Wno-unused-result -Wsign-compare -DNDEBUG -g -fwrapv -O2 -Wall -g -fstack-protector-strong -Wformat -Werror=format-security -g -fwrapv -O2 -g -fstack-protector-strong -Wformat -Werror=format-security -Wdate-time -D_FORTIFY_SOURCE=2 -fPIC -I/usr/local/lib/python3.8/dist-packages/paddle/include -I/usr/local/lib/python3.8/dist-packages/paddle/include/third_party -I/usr/local/cuda/include -I/usr/include/python3.8 -c /content/PaddleDetection/ppdet/ext_op/csrc/rbox_iou/rbox_iou_op.cc -o /content/PaddleDetection/ppdet/ext_op/build/ext_op/lib.linux-x86_64-3.8/rbox_iou_op.o -DPADDLE_WITH_CUDA -w -DPADDLE_WITH_CUSTOM_KERNEL -D_GLIBCXX_USE_CXX11_ABI=1 -DPADDLE_WITH_CUDA -std=c++14\n",
            "x86_64-linux-gnu-gcc -pthread -Wno-unused-result -Wsign-compare -DNDEBUG -g -fwrapv -O2 -Wall -g -fstack-protector-strong -Wformat -Werror=format-security -g -fwrapv -O2 -g -fstack-protector-strong -Wformat -Werror=format-security -Wdate-time -D_FORTIFY_SOURCE=2 -fPIC -I/usr/local/lib/python3.8/dist-packages/paddle/include -I/usr/local/lib/python3.8/dist-packages/paddle/include/third_party -I/usr/local/cuda/include -I/usr/include/python3.8 -c /content/PaddleDetection/ppdet/ext_op/csrc/rbox_iou/matched_rbox_iou_op.cc -o /content/PaddleDetection/ppdet/ext_op/build/ext_op/lib.linux-x86_64-3.8/matched_rbox_iou_op.o -DPADDLE_WITH_CUDA -w -DPADDLE_WITH_CUSTOM_KERNEL -D_GLIBCXX_USE_CXX11_ABI=1 -DPADDLE_WITH_CUDA -std=c++14\n",
            "/usr/local/cuda/bin/nvcc -I/usr/local/lib/python3.8/dist-packages/paddle/include -I/usr/local/lib/python3.8/dist-packages/paddle/include/third_party -I/usr/local/cuda/include -I/usr/include/python3.8 -c /content/PaddleDetection/ppdet/ext_op/csrc/rbox_iou/matched_rbox_iou_op.cu -o /content/PaddleDetection/ppdet/ext_op/build/ext_op/lib.linux-x86_64-3.8/matched_rbox_iou_op.cu.o -DPADDLE_WITH_CUDA -DEIGEN_USE_GPU -ccbin cc -Xcompiler -fPIC --expt-relaxed-constexpr -DNVCC -w -DPADDLE_WITH_CUSTOM_KERNEL -D_GLIBCXX_USE_CXX11_ABI=1 -std=c++14\n",
            "/usr/local/cuda/bin/nvcc -I/usr/local/lib/python3.8/dist-packages/paddle/include -I/usr/local/lib/python3.8/dist-packages/paddle/include/third_party -I/usr/local/cuda/include -I/usr/include/python3.8 -c /content/PaddleDetection/ppdet/ext_op/csrc/rbox_iou/rbox_iou_op.cu -o /content/PaddleDetection/ppdet/ext_op/build/ext_op/lib.linux-x86_64-3.8/rbox_iou_op.cu.o -DPADDLE_WITH_CUDA -DEIGEN_USE_GPU -ccbin cc -Xcompiler -fPIC --expt-relaxed-constexpr -DNVCC -w -DPADDLE_WITH_CUSTOM_KERNEL -D_GLIBCXX_USE_CXX11_ABI=1 -std=c++14\n",
            "x86_64-linux-gnu-g++ -pthread -shared -Wl,-O1 -Wl,-Bsymbolic-functions -Wl,-Bsymbolic-functions -Wl,-z,relro -g -fwrapv -O2 -Wl,-Bsymbolic-functions -Wl,-z,relro -g -fwrapv -O2 -g -fstack-protector-strong -Wformat -Werror=format-security -Wdate-time -D_FORTIFY_SOURCE=2 /content/PaddleDetection/ppdet/ext_op/build/ext_op/lib.linux-x86_64-3.8/rbox_iou_op.o /content/PaddleDetection/ppdet/ext_op/build/ext_op/lib.linux-x86_64-3.8/matched_rbox_iou_op.o /content/PaddleDetection/ppdet/ext_op/build/ext_op/lib.linux-x86_64-3.8/matched_rbox_iou_op.cu.o /content/PaddleDetection/ppdet/ext_op/build/ext_op/lib.linux-x86_64-3.8/rbox_iou_op.cu.o -L/usr/local/lib/python3.8/dist-packages/paddle/libs -L/usr/local/cuda/lib64 -L/usr/local/lib/python3.8/dist-packages/paddle/fluid -Wl,--enable-new-dtags,-R/usr/local/lib/python3.8/dist-packages/paddle/libs -Wl,--enable-new-dtags,-R/usr/local/cuda/lib64 -Wl,--enable-new-dtags,-R/usr/local/lib/python3.8/dist-packages/paddle/fluid -o build/ext_op/lib.linux-x86_64-3.8/ext_op.so -l:core_avx.so -lcudart\n",
            "creating build/ext_op/bdist.linux-x86_64\n",
            "creating build/ext_op/bdist.linux-x86_64/egg\n",
            "copying build/ext_op/lib.linux-x86_64-3.8/matched_rbox_iou_op.cu.o -> build/ext_op/bdist.linux-x86_64/egg\n",
            "copying build/ext_op/lib.linux-x86_64-3.8/ext_op.so -> build/ext_op/bdist.linux-x86_64/egg\n",
            "copying build/ext_op/lib.linux-x86_64-3.8/rbox_iou_op.o -> build/ext_op/bdist.linux-x86_64/egg\n",
            "copying build/ext_op/lib.linux-x86_64-3.8/version.txt -> build/ext_op/bdist.linux-x86_64/egg\n",
            "copying build/ext_op/lib.linux-x86_64-3.8/matched_rbox_iou_op.o -> build/ext_op/bdist.linux-x86_64/egg\n",
            "copying build/ext_op/lib.linux-x86_64-3.8/rbox_iou_op.cu.o -> build/ext_op/bdist.linux-x86_64/egg\n",
            "creating stub loader for ext_op.so\n",
            "byte-compiling build/ext_op/bdist.linux-x86_64/egg/ext_op.py to ext_op.cpython-38.pyc\n",
            "creating build/ext_op/bdist.linux-x86_64/egg/EGG-INFO\n",
            "copying ext_op.egg-info/PKG-INFO -> build/ext_op/bdist.linux-x86_64/egg/EGG-INFO\n",
            "copying ext_op.egg-info/SOURCES.txt -> build/ext_op/bdist.linux-x86_64/egg/EGG-INFO\n",
            "copying ext_op.egg-info/dependency_links.txt -> build/ext_op/bdist.linux-x86_64/egg/EGG-INFO\n",
            "copying ext_op.egg-info/not-zip-safe -> build/ext_op/bdist.linux-x86_64/egg/EGG-INFO\n",
            "copying ext_op.egg-info/top_level.txt -> build/ext_op/bdist.linux-x86_64/egg/EGG-INFO\n",
            "writing build/ext_op/bdist.linux-x86_64/egg/EGG-INFO/native_libs.txt\n",
            "creating dist\n",
            "creating 'dist/ext_op-0.0.0-py3.8-linux-x86_64.egg' and adding 'build/ext_op/bdist.linux-x86_64/egg' to it\n",
            "removing 'build/ext_op/bdist.linux-x86_64/egg' (and everything under it)\n",
            "Processing ext_op-0.0.0-py3.8-linux-x86_64.egg\n",
            "creating /usr/local/lib/python3.8/dist-packages/ext_op-0.0.0-py3.8-linux-x86_64.egg\n",
            "Extracting ext_op-0.0.0-py3.8-linux-x86_64.egg to /usr/local/lib/python3.8/dist-packages\n",
            "Adding ext-op 0.0.0 to easy-install.pth file\n",
            "\n",
            "Installed /usr/local/lib/python3.8/dist-packages/ext_op-0.0.0-py3.8-linux-x86_64.egg\n",
            "Processing dependencies for ext-op==0.0.0\n",
            "Finished processing dependencies for ext-op==0.0.0\n"
          ]
        }
      ]
    },
    {
      "cell_type": "code",
      "source": [
        "from google.colab import drive\n",
        "drive.mount('/content/drive')"
      ],
      "metadata": {
        "colab": {
          "base_uri": "https://localhost:8080/"
        },
        "id": "oVUDv996BoAo",
        "outputId": "12d52ed0-8c35-4e96-a7fd-58b1ee6d84f1"
      },
      "execution_count": 22,
      "outputs": [
        {
          "output_type": "stream",
          "name": "stdout",
          "text": [
            "Mounted at /content/drive\n"
          ]
        }
      ]
    },
    {
      "cell_type": "code",
      "source": [
        "from google.colab import files\n",
        "files.upload()"
      ],
      "metadata": {
        "colab": {
          "base_uri": "https://localhost:8080/",
          "height": 56
        },
        "id": "d1Ez5X95Bq8M",
        "outputId": "18d469e7-a8d8-4162-92e4-47d6513c458b"
      },
      "execution_count": 23,
      "outputs": [
        {
          "output_type": "display_data",
          "data": {
            "text/plain": [
              "<IPython.core.display.HTML object>"
            ],
            "text/html": [
              "\n",
              "     <input type=\"file\" id=\"files-ac6e4772-340c-4a37-963b-273651b0bfd8\" name=\"files[]\" multiple disabled\n",
              "        style=\"border:none\" />\n",
              "     <output id=\"result-ac6e4772-340c-4a37-963b-273651b0bfd8\">\n",
              "      Upload widget is only available when the cell has been executed in the\n",
              "      current browser session. Please rerun this cell to enable.\n",
              "      </output>\n",
              "      <script>// Copyright 2017 Google LLC\n",
              "//\n",
              "// Licensed under the Apache License, Version 2.0 (the \"License\");\n",
              "// you may not use this file except in compliance with the License.\n",
              "// You may obtain a copy of the License at\n",
              "//\n",
              "//      http://www.apache.org/licenses/LICENSE-2.0\n",
              "//\n",
              "// Unless required by applicable law or agreed to in writing, software\n",
              "// distributed under the License is distributed on an \"AS IS\" BASIS,\n",
              "// WITHOUT WARRANTIES OR CONDITIONS OF ANY KIND, either express or implied.\n",
              "// See the License for the specific language governing permissions and\n",
              "// limitations under the License.\n",
              "\n",
              "/**\n",
              " * @fileoverview Helpers for google.colab Python module.\n",
              " */\n",
              "(function(scope) {\n",
              "function span(text, styleAttributes = {}) {\n",
              "  const element = document.createElement('span');\n",
              "  element.textContent = text;\n",
              "  for (const key of Object.keys(styleAttributes)) {\n",
              "    element.style[key] = styleAttributes[key];\n",
              "  }\n",
              "  return element;\n",
              "}\n",
              "\n",
              "// Max number of bytes which will be uploaded at a time.\n",
              "const MAX_PAYLOAD_SIZE = 100 * 1024;\n",
              "\n",
              "function _uploadFiles(inputId, outputId) {\n",
              "  const steps = uploadFilesStep(inputId, outputId);\n",
              "  const outputElement = document.getElementById(outputId);\n",
              "  // Cache steps on the outputElement to make it available for the next call\n",
              "  // to uploadFilesContinue from Python.\n",
              "  outputElement.steps = steps;\n",
              "\n",
              "  return _uploadFilesContinue(outputId);\n",
              "}\n",
              "\n",
              "// This is roughly an async generator (not supported in the browser yet),\n",
              "// where there are multiple asynchronous steps and the Python side is going\n",
              "// to poll for completion of each step.\n",
              "// This uses a Promise to block the python side on completion of each step,\n",
              "// then passes the result of the previous step as the input to the next step.\n",
              "function _uploadFilesContinue(outputId) {\n",
              "  const outputElement = document.getElementById(outputId);\n",
              "  const steps = outputElement.steps;\n",
              "\n",
              "  const next = steps.next(outputElement.lastPromiseValue);\n",
              "  return Promise.resolve(next.value.promise).then((value) => {\n",
              "    // Cache the last promise value to make it available to the next\n",
              "    // step of the generator.\n",
              "    outputElement.lastPromiseValue = value;\n",
              "    return next.value.response;\n",
              "  });\n",
              "}\n",
              "\n",
              "/**\n",
              " * Generator function which is called between each async step of the upload\n",
              " * process.\n",
              " * @param {string} inputId Element ID of the input file picker element.\n",
              " * @param {string} outputId Element ID of the output display.\n",
              " * @return {!Iterable<!Object>} Iterable of next steps.\n",
              " */\n",
              "function* uploadFilesStep(inputId, outputId) {\n",
              "  const inputElement = document.getElementById(inputId);\n",
              "  inputElement.disabled = false;\n",
              "\n",
              "  const outputElement = document.getElementById(outputId);\n",
              "  outputElement.innerHTML = '';\n",
              "\n",
              "  const pickedPromise = new Promise((resolve) => {\n",
              "    inputElement.addEventListener('change', (e) => {\n",
              "      resolve(e.target.files);\n",
              "    });\n",
              "  });\n",
              "\n",
              "  const cancel = document.createElement('button');\n",
              "  inputElement.parentElement.appendChild(cancel);\n",
              "  cancel.textContent = 'Cancel upload';\n",
              "  const cancelPromise = new Promise((resolve) => {\n",
              "    cancel.onclick = () => {\n",
              "      resolve(null);\n",
              "    };\n",
              "  });\n",
              "\n",
              "  // Wait for the user to pick the files.\n",
              "  const files = yield {\n",
              "    promise: Promise.race([pickedPromise, cancelPromise]),\n",
              "    response: {\n",
              "      action: 'starting',\n",
              "    }\n",
              "  };\n",
              "\n",
              "  cancel.remove();\n",
              "\n",
              "  // Disable the input element since further picks are not allowed.\n",
              "  inputElement.disabled = true;\n",
              "\n",
              "  if (!files) {\n",
              "    return {\n",
              "      response: {\n",
              "        action: 'complete',\n",
              "      }\n",
              "    };\n",
              "  }\n",
              "\n",
              "  for (const file of files) {\n",
              "    const li = document.createElement('li');\n",
              "    li.append(span(file.name, {fontWeight: 'bold'}));\n",
              "    li.append(span(\n",
              "        `(${file.type || 'n/a'}) - ${file.size} bytes, ` +\n",
              "        `last modified: ${\n",
              "            file.lastModifiedDate ? file.lastModifiedDate.toLocaleDateString() :\n",
              "                                    'n/a'} - `));\n",
              "    const percent = span('0% done');\n",
              "    li.appendChild(percent);\n",
              "\n",
              "    outputElement.appendChild(li);\n",
              "\n",
              "    const fileDataPromise = new Promise((resolve) => {\n",
              "      const reader = new FileReader();\n",
              "      reader.onload = (e) => {\n",
              "        resolve(e.target.result);\n",
              "      };\n",
              "      reader.readAsArrayBuffer(file);\n",
              "    });\n",
              "    // Wait for the data to be ready.\n",
              "    let fileData = yield {\n",
              "      promise: fileDataPromise,\n",
              "      response: {\n",
              "        action: 'continue',\n",
              "      }\n",
              "    };\n",
              "\n",
              "    // Use a chunked sending to avoid message size limits. See b/62115660.\n",
              "    let position = 0;\n",
              "    do {\n",
              "      const length = Math.min(fileData.byteLength - position, MAX_PAYLOAD_SIZE);\n",
              "      const chunk = new Uint8Array(fileData, position, length);\n",
              "      position += length;\n",
              "\n",
              "      const base64 = btoa(String.fromCharCode.apply(null, chunk));\n",
              "      yield {\n",
              "        response: {\n",
              "          action: 'append',\n",
              "          file: file.name,\n",
              "          data: base64,\n",
              "        },\n",
              "      };\n",
              "\n",
              "      let percentDone = fileData.byteLength === 0 ?\n",
              "          100 :\n",
              "          Math.round((position / fileData.byteLength) * 100);\n",
              "      percent.textContent = `${percentDone}% done`;\n",
              "\n",
              "    } while (position < fileData.byteLength);\n",
              "  }\n",
              "\n",
              "  // All done.\n",
              "  yield {\n",
              "    response: {\n",
              "      action: 'complete',\n",
              "    }\n",
              "  };\n",
              "}\n",
              "\n",
              "scope.google = scope.google || {};\n",
              "scope.google.colab = scope.google.colab || {};\n",
              "scope.google.colab._files = {\n",
              "  _uploadFiles,\n",
              "  _uploadFilesContinue,\n",
              "};\n",
              "})(self);\n",
              "</script> "
            ]
          },
          "metadata": {}
        },
        {
          "output_type": "execute_result",
          "data": {
            "text/plain": [
              "{}"
            ]
          },
          "metadata": {},
          "execution_count": 23
        }
      ]
    },
    {
      "cell_type": "code",
      "source": [],
      "metadata": {
        "id": "M-_Q6VYFC_J4"
      },
      "execution_count": null,
      "outputs": []
    }
  ]
}